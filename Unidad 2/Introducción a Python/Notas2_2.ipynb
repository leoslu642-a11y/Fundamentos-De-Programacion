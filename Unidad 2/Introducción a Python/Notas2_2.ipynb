{
  "metadata": {
    "kernelspec": {
      "name": "xpython",
      "display_name": "Python 3.13 (XPython)",
      "language": "python"
    },
    "language_info": {
      "file_extension": ".py",
      "mimetype": "text/x-python",
      "name": "python",
      "version": "3.13.1"
    }
  },
  "nbformat_minor": 5,
  "nbformat": 4,
  "cells": [
    {
      "id": "93657ecd-bae7-4c4c-b5d1-51e79183fc88",
      "cell_type": "code",
      "source": "\nfor i in range (1,5):\n    print (\"Número\", i)\n\n",
      "metadata": {
        "trusted": true
      },
      "outputs": [
        {
          "name": "stdout",
          "output_type": "stream",
          "text": "Número 1\nNúmero 2\nNúmero 3\nNúmero 4\n"
        }
      ],
      "execution_count": 2
    },
    {
      "id": "4327f563-9b72-46b5-9f9f-b8cafeb85647",
      "cell_type": "code",
      "source": "suma = 0\nfor i in range(1, 11):\n suma += i\nprint(\"La suma de los primeros 10 números es:\", suma)",
      "metadata": {
        "trusted": true
      },
      "outputs": [
        {
          "name": "stdout",
          "output_type": "stream",
          "text": "La suma de los primeros 10 números es: 55\n"
        }
      ],
      "execution_count": 3
    },
    {
      "id": "d4dc4507-8c2f-4fd9-8c75-7c1021c60053",
      "cell_type": "code",
      "source": "nombres = [\"Ed\", \"Jorge\", \"María\", \"Luisa\"]\n\nfor nombre in nombres:\n    print(\"Hola,\", nombre)\n     ",
      "metadata": {
        "trusted": true
      },
      "outputs": [
        {
          "name": "stdout",
          "output_type": "stream",
          "text": "Hola, Ed\nHola, Jorge\nHola, María\nHola, Luisa\n"
        }
      ],
      "execution_count": 4
    },
    {
      "id": "1bd2a373-af17-4dac-9c82-eec8ce077caa",
      "cell_type": "code",
      "source": "Cumple = int(input(\"¿Cuál es tu edad?\"))\nfor i in range(1, Cumple):\n print(\"Feliz cumpleaños número\",i)",
      "metadata": {
        "trusted": true
      },
      "outputs": [
        {
          "output_type": "stream",
          "name": "stdin",
          "text": "¿Cuál es tu edad? 5\n"
        },
        {
          "name": "stdout",
          "output_type": "stream",
          "text": "Feliz cumpleaños número 1\nFeliz cumpleaños número 2\nFeliz cumpleaños número 3\nFeliz cumpleaños número 4\n"
        }
      ],
      "execution_count": 5
    },
    {
      "id": "93b062d3-e5ed-4f15-b02e-822881b7cff9",
      "cell_type": "code",
      "source": "#Hacer que con un input se agregue la calificación\n\ncalificacion =int(input(\"Escribe tu calificación\"))\n\nif calificacion >= 90:\n print(\"Excelente\")\nelif calificacion >= 70:\n print(\"Aprobado\")\nelse:\n print(\"Reprobado\")\n     ",
      "metadata": {
        "trusted": true
      },
      "outputs": [
        {
          "output_type": "stream",
          "name": "stdin",
          "text": "Escribe tu calificación 100\n"
        },
        {
          "name": "stdout",
          "output_type": "stream",
          "text": "Excelente\n"
        }
      ],
      "execution_count": 12
    },
    {
      "id": "17993bfe-be6a-4f0d-957a-97970e9a818f",
      "cell_type": "code",
      "source": "numero_secreto = 7\nadivinanza = 0\n\nwhile adivinanza != numero_secreto:\n    adivinanza = int(input(\"Adivina el número (1-10): \"))\n\nprint(\"¡Correcto! El número era\", numero_secreto)",
      "metadata": {
        "trusted": true
      },
      "outputs": [
        {
          "output_type": "stream",
          "name": "stdin",
          "text": "Adivina el número (1-10):  8\nAdivina el número (1-10):  7\n"
        },
        {
          "name": "stdout",
          "output_type": "stream",
          "text": "¡Correcto! El número era 7\n"
        }
      ],
      "execution_count": 13
    },
    {
      "id": "b29f850a-75e1-45b2-b7dc-23f62148b916",
      "cell_type": "code",
      "source": "contador = 1\n\nwhile contador <= 5:\n    print(\"Número:\", contador)\n    contador += 1  # incrementa el contador",
      "metadata": {
        "trusted": true
      },
      "outputs": [
        {
          "name": "stdout",
          "output_type": "stream",
          "text": "Número: 1\nNúmero: 2\nNúmero: 3\nNúmero: 4\nNúmero: 5\n"
        }
      ],
      "execution_count": 9
    },
    {
      "id": "b539b071-7438-4959-b819-653a4cbdc15e",
      "cell_type": "code",
      "source": "#Hacer que con un input se agregue la edad\nopcion=int(input(\"Escoge un archivo\"))\n\nif opcion == 1:\n    print(\"Has elegido guardar el archivo\")\nelif opcion == 2:\n    print(\"Has elegido abrir un archivo\")\nelif opcion == 3:\n    print(\"Has elegido salir del programa\")\nelse:\n    print(\"Opción no válida\")",
      "metadata": {
        "trusted": true
      },
      "outputs": [
        {
          "output_type": "stream",
          "name": "stdin",
          "text": "Escoge un archivo 33\n"
        },
        {
          "name": "stdout",
          "output_type": "stream",
          "text": "Opción no válida\n"
        }
      ],
      "execution_count": 11
    },
    {
      "id": "01288465-4d22-4370-ac64-90ec663da5d0",
      "cell_type": "code",
      "source": "",
      "metadata": {
        "trusted": true
      },
      "outputs": [],
      "execution_count": null
    }
  ]
}