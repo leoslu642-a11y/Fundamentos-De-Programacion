{
  "metadata": {
    "kernelspec": {
      "name": "xpython",
      "display_name": "Python 3.13 (XPython)",
      "language": "python"
    },
    "language_info": {
      "file_extension": ".py",
      "mimetype": "text/x-python",
      "name": "python",
      "version": "3.13.1"
    }
  },
  "nbformat_minor": 5,
  "nbformat": 4,
  "cells": [
    {
      "id": "53b61d36-dae2-4231-91a5-0c67d0278a6d",
      "cell_type": "code",
      "source": "edad=16\nif edad >18: \n    print(f\"Eres mayor de edad\")\nelif edad==18:\n    print(f\"vaya a sacar su INE\")\nelse:\n print(f\"Eres menor de edad\")\n   ",
      "metadata": {
        "trusted": true
      },
      "outputs": [
        {
          "name": "stdout",
          "output_type": "stream",
          "text": "Eres menor de edad\n"
        }
      ],
      "execution_count": 33
    },
    {
      "id": "c20d3d1f-7b6e-4c53-ab21-f244edd9e4cb",
      "cell_type": "code",
      "source": "\nnumero=10\ncondicional=7\nif numero>=5:\n print(f\"El número es mayor a 5\")\nelse:\n printf(f\"El número es menor\")\n",
      "metadata": {
        "trusted": true
      },
      "outputs": [
        {
          "name": "stdout",
          "output_type": "stream",
          "text": "El número es mayor a 5\n"
        }
      ],
      "execution_count": 23
    },
    {
      "id": "89e113f0-a2b7-4db6-94fc-d444d415c106",
      "cell_type": "code",
      "source": "\nfor i in range(5):\n print(\"Contador\", 1)\n",
      "metadata": {
        "trusted": true
      },
      "outputs": [
        {
          "name": "stdout",
          "output_type": "stream",
          "text": "Contador 1\nContador 1\nContador 1\nContador 1\nContador 1\n"
        }
      ],
      "execution_count": 35
    },
    {
      "id": "96419db2-92f7-47c4-8d8d-a749edfe6919",
      "cell_type": "code",
      "source": "",
      "metadata": {
        "trusted": true
      },
      "outputs": [],
      "execution_count": null
    }
  ]
}